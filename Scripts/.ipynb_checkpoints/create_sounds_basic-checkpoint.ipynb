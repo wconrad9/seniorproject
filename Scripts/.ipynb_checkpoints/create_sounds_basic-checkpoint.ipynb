{
 "cells": [
  {
   "cell_type": "code",
   "execution_count": 8,
   "metadata": {},
   "outputs": [
    {
     "data": {
      "text/plain": [
       "<_io.BufferedRandom name='../../havles.wav'>"
      ]
     },
     "execution_count": 8,
     "metadata": {},
     "output_type": "execute_result"
    }
   ],
   "source": [
    "from pydub import AudioSegment\n",
    "\n",
    "\n",
    "cgb = AudioSegment.from_wav(\"../../cgb.wav\")\n",
    "\n",
    "cgb = cgb[:1000]\n",
    "\n",
    "wholes = cgb * 30\n",
    "\n",
    "cgb = cgb[:500]\n",
    "\n",
    "halves = cgb * 60\n",
    "\n",
    "wholes.export('../../wholes.wav', format = 'wav')\n",
    "halves.export('../../havles.wav', format = 'wav')\n"
   ]
  }
 ],
 "metadata": {
  "kernelspec": {
   "display_name": "Python 3",
   "language": "python",
   "name": "python3"
  },
  "language_info": {
   "codemirror_mode": {
    "name": "ipython",
    "version": 3
   },
   "file_extension": ".py",
   "mimetype": "text/x-python",
   "name": "python",
   "nbconvert_exporter": "python",
   "pygments_lexer": "ipython3",
   "version": "3.7.8"
  }
 },
 "nbformat": 4,
 "nbformat_minor": 4
}
